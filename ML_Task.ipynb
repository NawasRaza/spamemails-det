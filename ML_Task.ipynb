{
  "nbformat": 4,
  "nbformat_minor": 0,
  "metadata": {
    "colab": {
      "provenance": [],
      "authorship_tag": "ABX9TyPYLfxq7MHiEy/0LqEIgp3K",
      "include_colab_link": true
    },
    "kernelspec": {
      "name": "python3",
      "display_name": "Python 3"
    },
    "language_info": {
      "name": "python"
    }
  },
  "cells": [
    {
      "cell_type": "markdown",
      "metadata": {
        "id": "view-in-github",
        "colab_type": "text"
      },
      "source": [
        "<a href=\"https://colab.research.google.com/github/NawasRaza/spamemails-det/blob/main/ML_Task.ipynb\" target=\"_parent\"><img src=\"https://colab.research.google.com/assets/colab-badge.svg\" alt=\"Open In Colab\"/></a>"
      ]
    },
    {
      "cell_type": "code",
      "source": [
        "import os\n",
        "\n",
        "# List files in the current directory\n",
        "os.listdir()\n"
      ],
      "metadata": {
        "colab": {
          "base_uri": "https://localhost:8080/"
        },
        "id": "CsnxxCrbda8w",
        "outputId": "4b854b3a-111f-45e8-a2af-95d7c102e18e"
      },
      "execution_count": 3,
      "outputs": [
        {
          "output_type": "execute_result",
          "data": {
            "text/plain": [
              "['.config', 'python.zip', 'sample_data']"
            ]
          },
          "metadata": {},
          "execution_count": 3
        }
      ]
    },
    {
      "cell_type": "code",
      "source": [
        "import zipfile\n",
        "import os\n",
        "\n",
        "zip_path = 'python.zip'\n",
        "\n",
        "extract_to = 'extracted_folder'\n",
        "\n",
        "try:\n",
        "    if os.path.exists(zip_path):\n",
        "        os.makedirs(extract_to, exist_ok=True)\n",
        "\n",
        "        with zipfile.ZipFile(zip_path, 'r') as zip_ref:\n",
        "            zip_ref.extractall(extract_to)\n",
        "\n",
        "        extracted_files = os.listdir(extract_to)\n",
        "        print(\"Files extracted successfully:\")\n",
        "        print(extracted_files)\n",
        "    else:\n",
        "        print(f\"ZIP file '{zip_path}' not found.\")\n",
        "except zipfile.BadZipFile as e:\n",
        "    print(f\"Error: {e}\")\n",
        "except Exception as e:\n",
        "    print(f\"An error occurred: {e}\")\n"
      ],
      "metadata": {
        "colab": {
          "base_uri": "https://localhost:8080/"
        },
        "id": "sqH096kReQFx",
        "outputId": "46656ce0-26c3-4064-86a8-e5a0788fbaa3"
      },
      "execution_count": 6,
      "outputs": [
        {
          "output_type": "stream",
          "name": "stdout",
          "text": [
            "Files extracted successfully:\n",
            "['python']\n"
          ]
        }
      ]
    }
  ]
}